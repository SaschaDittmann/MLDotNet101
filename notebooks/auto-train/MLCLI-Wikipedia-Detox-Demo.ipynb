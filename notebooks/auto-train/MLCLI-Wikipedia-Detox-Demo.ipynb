{
 "cells": [
  {
   "cell_type": "code",
   "execution_count": null,
   "metadata": {},
   "outputs": [],
   "source": [
    "!dotnet new console -o consumeModelApp"
   ]
  },
  {
   "cell_type": "code",
   "execution_count": null,
   "metadata": {},
   "outputs": [],
   "source": [
    "!mlnet auto-train --task binary-classification --dataset \"wikipedia-detox-250-line-data.tsv\" --label-column-name \"Sentiment\" --max-exploration-time 10"
   ]
  },
  {
   "cell_type": "code",
   "execution_count": null,
   "metadata": {},
   "outputs": [],
   "source": [
    "!cd consumeModelApp && dotnet add reference ../SampleBinaryClassification/SampleBinaryClassification.Model/"
   ]
  },
  {
   "cell_type": "code",
   "execution_count": null,
   "metadata": {},
   "outputs": [],
   "source": [
    "!cd consumeModelApp && dotnet add package Microsoft.ML --version 1.4.0"
   ]
  },
  {
   "cell_type": "code",
   "execution_count": null,
   "metadata": {},
   "outputs": [],
   "source": [
    "!cp ./SampleBinaryClassification/SampleBinaryClassification.Model/MLModel.zip ./consumeModelApp"
   ]
  },
  {
   "cell_type": "code",
   "execution_count": null,
   "metadata": {},
   "outputs": [],
   "source": [
    "%%writefile ./consumeModelApp/Program.cs\n",
    "using System;\n",
    "using SampleBinaryClassification.Model.DataModels;\n",
    "using Microsoft.ML;\n",
    "\n",
    "namespace consumeModelApp\n",
    "{\n",
    "    class Program\n",
    "    {\n",
    "        static void Main(string[] args)\n",
    "        {\n",
    "            ConsumeModel();\n",
    "        }\n",
    "\n",
    "        public static void ConsumeModel()\n",
    "        {\n",
    "            // Load the model\n",
    "            MLContext mlContext = new MLContext();\n",
    "\n",
    "            ITransformer mlModel = mlContext.Model.Load(\"MLModel.zip\", out var modelInputSchema);\n",
    "\n",
    "            var predEngine = mlContext.Model.CreatePredictionEngine<ModelInput, ModelOutput>(mlModel);\n",
    "\n",
    "            // Use the code below to add input data\n",
    "            var input = new ModelInput();\n",
    "            input.SentimentText = \"That is rude\";\n",
    "\n",
    "            // Try model on sample data\n",
    "            // True is toxic, false is non-toxic\n",
    "            ModelOutput result = predEngine.Predict(input);\n",
    "\n",
    "            Console.WriteLine($\"Text: {input.SentimentText} | Prediction: {(Convert.ToBoolean(result.Prediction) ? \"Toxic\" : \"Non-toxic\")} sentiment\");\n",
    "        }\n",
    "    }\n",
    "}"
   ]
  },
  {
   "cell_type": "code",
   "execution_count": null,
   "metadata": {},
   "outputs": [],
   "source": [
    "!cd ./consumeModelApp && dotnet run"
   ]
  },
  {
   "cell_type": "code",
   "execution_count": null,
   "metadata": {},
   "outputs": [],
   "source": [
    "!rm -rf ./consumeModelApp ./SampleBinaryClassification"
   ]
  }
 ],
 "metadata": {
  "kernelspec": {
   "display_name": "Python 3",
   "language": "python",
   "name": "python3"
  },
  "language_info": {
   "codemirror_mode": {
    "name": "ipython",
    "version": 3
   },
   "file_extension": ".py",
   "mimetype": "text/x-python",
   "name": "python",
   "nbconvert_exporter": "python",
   "pygments_lexer": "ipython3",
   "version": "3.7.3"
  }
 },
 "nbformat": 4,
 "nbformat_minor": 2
}
