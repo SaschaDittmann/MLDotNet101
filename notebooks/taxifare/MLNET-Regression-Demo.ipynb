{
 "cells": [
  {
   "cell_type": "markdown",
   "metadata": {},
   "source": [
    "# Using ML.NET and XPlot in Jupyter notebooks\n",
    "## Scenario: Regression model for Taxi fares\n",
    "\n",
    "Regression is a ML task type of supervised machine learning algorithms. \n",
    "A regression ML model predicts continuous value outputs (such as numbers). \n",
    "For instance, predicting the fare of a Taxi trip or predicting the price of a car is a regression problem."
   ]
  },
  {
   "cell_type": "markdown",
   "metadata": {},
   "source": [
    "# Install the NuGet packages you use in the notebook"
   ]
  },
  {
   "cell_type": "code",
   "execution_count": null,
   "metadata": {},
   "outputs": [],
   "source": [
    "// ML.NET Nuget packages installation\n",
    "#r \"nuget:Microsoft.ML,1.4.0\"\n",
    "    \n",
    "//Install XPlot package\n",
    "#r \"nuget:XPlot.Plotly,3.0.1\"\n",
    "\n",
    "using Microsoft.ML;\n",
    "using Microsoft.ML.Data;\n",
    "using XPlot.Plotly;"
   ]
  },
  {
   "cell_type": "markdown",
   "metadata": {},
   "source": [
    "# Declare data-classes for input data and predictions"
   ]
  },
  {
   "cell_type": "code",
   "execution_count": null,
   "metadata": {},
   "outputs": [],
   "source": [
    "public class TaxiTrip\n",
    "{\n",
    "    [LoadColumn(0)]\n",
    "    public string VendorId;\n",
    "\n",
    "    [LoadColumn(1)]\n",
    "    public string RateCode;\n",
    "\n",
    "    [LoadColumn(2)]\n",
    "    public float PassengerCount;\n",
    "\n",
    "    [LoadColumn(3)]\n",
    "    public float TripTime;\n",
    "\n",
    "    [LoadColumn(4)]\n",
    "    public float TripDistance;\n",
    "\n",
    "    [LoadColumn(5)]\n",
    "    public string PaymentType;\n",
    "\n",
    "    [LoadColumn(6)]\n",
    "    public float FareAmount;\n",
    "}\n",
    "\n",
    "public class TaxiTripFarePrediction\n",
    "{\n",
    "    [ColumnName(\"Score\")]\n",
    "    public float Score;\n",
    "}"
   ]
  },
  {
   "cell_type": "markdown",
   "metadata": {},
   "source": [
    "# Load datasets into IDataView and display the schema "
   ]
  },
  {
   "cell_type": "code",
   "execution_count": null,
   "metadata": {},
   "outputs": [],
   "source": [
    "MLContext mlContext = new MLContext(seed: 0);\n",
    "\n",
    "string TrainDataPath = \"./taxi-fare-train.csv\";\n",
    "string TestDataPath = \"./taxi-fare-test.csv\";\n",
    "\n",
    "IDataView trainDataView = mlContext.Data.LoadFromTextFile<TaxiTrip>(TrainDataPath, hasHeader: true, separatorChar: ',');\n",
    "IDataView testDataView = mlContext.Data.LoadFromTextFile<TaxiTrip>(TestDataPath, hasHeader: true, separatorChar: ',');\n",
    "\n",
    "display(h2(\"Schema of training DataView:\"));\n",
    "display(trainDataView.Schema);\n"
   ]
  },
  {
   "cell_type": "markdown",
   "metadata": {},
   "source": [
    "## Show a few rows of loaded data "
   ]
  },
  {
   "cell_type": "code",
   "execution_count": null,
   "metadata": {},
   "outputs": [],
   "source": [
    "public static List<TaxiTrip> Head(MLContext mlContext, IDataView dataView, int numberOfRows = 4)\n",
    "{\n",
    "    string msg = string.Format(\"DataView: Showing {0} rows with the columns\", numberOfRows.ToString());\n",
    "    display(msg);\n",
    "          \n",
    "    var rows = mlContext.Data.CreateEnumerable<TaxiTrip>(dataView, reuseRowObject: false)\n",
    "                    .Take(numberOfRows)\n",
    "                    .ToList();\n",
    "    \n",
    "    return rows;\n",
    "}\n",
    "\n",
    "display(h3(\"Showing a few rows from training DataView\"));\n",
    "\n",
    "var fewRows = Head(mlContext, trainDataView, 5);\n",
    "display(fewRows);"
   ]
  },
  {
   "cell_type": "markdown",
   "metadata": {},
   "source": [
    "## Extract important input variables as arrays to be used for plotting"
   ]
  },
  {
   "cell_type": "code",
   "execution_count": null,
   "metadata": {},
   "outputs": [],
   "source": [
    "int numberOfRows = 1000;\n",
    "float[] fares = trainDataView.GetColumn<float>(\"FareAmount\").Take(numberOfRows).ToArray();\n",
    "float[] distances = trainDataView.GetColumn<float>(\"TripDistance\").Take(numberOfRows).ToArray();\n",
    "float[] times = trainDataView.GetColumn<float>(\"TripTime\").Take(numberOfRows).ToArray();\n",
    "float[] passengerCounts = trainDataView.GetColumn<float>(\"PassengerCount\").Take(numberOfRows).ToArray();"
   ]
  },
  {
   "cell_type": "markdown",
   "metadata": {},
   "source": [
    "## Show a histogram: Distribution of taxi trips per fare cost "
   ]
  },
  {
   "cell_type": "code",
   "execution_count": null,
   "metadata": {},
   "outputs": [],
   "source": [
    "var faresHistogram = Chart.Plot(new Graph.Histogram(){x = fares, autobinx = false, nbinsx = 20});\n",
    "var layout = new Layout.Layout(){title=\"Distribution of taxi trips per cost\"};\n",
    "faresHistogram.WithLayout(layout);\n",
    "faresHistogram.WithXTitle(\"Fare ranges\");\n",
    "faresHistogram.WithYTitle(\"Number of trips\");\n",
    "display(faresHistogram);\n"
   ]
  },
  {
   "cell_type": "markdown",
   "metadata": {},
   "source": [
    "##  Plot Time vs. Distance with different color on Fares cost-frame"
   ]
  },
  {
   "cell_type": "code",
   "execution_count": null,
   "metadata": {},
   "outputs": [],
   "source": [
    "// Plot Time vs. Distance with different color on Fares cost-frame\n",
    "\n",
    "var chart = Chart.Plot(\n",
    "    new Graph.Scatter()\n",
    "    {\n",
    "        x = times,\n",
    "        y = distances,\n",
    "        mode = \"markers\",\n",
    "        marker = new Graph.Marker()\n",
    "        {\n",
    "            color = fares,\n",
    "            colorscale = \"Jet\"\n",
    "        }\n",
    "    }\n",
    ");\n",
    "\n",
    "var layout = new Layout.Layout(){title=\"Plot Time vs. Distance & color scale on Fares\"};\n",
    "chart.WithLayout(layout);\n",
    "chart.Width = 500;\n",
    "chart.Height = 500;\n",
    "chart.WithXTitle(\"Time\");\n",
    "chart.WithYTitle(\"Distance\");\n",
    "chart.WithLegend(false);\n",
    "\n",
    "display(chart);\n"
   ]
  },
  {
   "cell_type": "markdown",
   "metadata": {},
   "source": [
    "## Plot Fares depending on trip's Time "
   ]
  },
  {
   "cell_type": "code",
   "execution_count": null,
   "metadata": {},
   "outputs": [],
   "source": [
    "// Plot Fare depending on Time\n",
    "\n",
    "var chartFareVsTime = Chart.Plot(\n",
    "    new Graph.Scatter()\n",
    "    {\n",
    "        x = times,\n",
    "        y = fares,\n",
    "        mode = \"markers\",\n",
    "        marker = new Graph.Marker()\n",
    "        {\n",
    "            color = distances,\n",
    "            colorscale = \"Jet\"\n",
    "        }\n",
    "    }\n",
    ");\n",
    "\n",
    "var layout = new Layout.Layout(){title=\"Plot Fare depending on Time\"};\n",
    "chartFareVsTime.WithLayout(layout);\n",
    "chartFareVsTime.Width = 500;\n",
    "chartFareVsTime.Height = 500;\n",
    "chartFareVsTime.WithXTitle(\"Time\");\n",
    "chartFareVsTime.WithYTitle(\"Fares\");\n",
    "chartFareVsTime.WithLegend(false);\n",
    "\n",
    "display(chartFareVsTime);"
   ]
  },
  {
   "cell_type": "markdown",
   "metadata": {},
   "source": [
    "# Plot Fares depending on trip's Distance "
   ]
  },
  {
   "cell_type": "code",
   "execution_count": null,
   "metadata": {},
   "outputs": [],
   "source": [
    "// Plot Fare depending on Distance \n",
    "var chartFareVsDist = Chart.Plot(\n",
    "    new Graph.Scatter()\n",
    "    {\n",
    "        x = distances,\n",
    "        y = fares,\n",
    "        mode = \"markers\",\n",
    "        marker = new Graph.Marker()\n",
    "        {\n",
    "            color = times,\n",
    "            colorscale = \"Jet\"\n",
    "        }\n",
    "    }\n",
    ");\n",
    "var layout = new Layout.Layout(){title=\"Plot Fare depending on Distance\"};\n",
    "chartFareVsDist.WithLayout(layout);\n",
    "chartFareVsDist.Width = 500;\n",
    "chartFareVsDist.Height = 500;\n",
    "chartFareVsDist.WithXTitle(\"Distance\");\n",
    "chartFareVsDist.WithYTitle(\"Fares\");\n",
    "chartFareVsDist.WithLegend(false);\n",
    "display(chartFareVsDist);"
   ]
  },
  {
   "cell_type": "markdown",
   "metadata": {},
   "source": [
    "# Plot Fares depending on trip's passengers "
   ]
  },
  {
   "cell_type": "code",
   "execution_count": null,
   "metadata": {},
   "outputs": [],
   "source": [
    "// Plot Fare depending on Passengers\n",
    "\n",
    "int numberOfRows = 2000;\n",
    "float[] fares = trainDataView.GetColumn<float>(\"FareAmount\").Take(numberOfRows).ToArray();\n",
    "float[] passengerCounts = trainDataView.GetColumn<float>(\"PassengerCount\").Take(numberOfRows).ToArray();\n",
    "\n",
    "float[] distances = trainDataView.GetColumn<float>(\"TripDistance\").Take(numberOfRows).ToArray();\n",
    "float[] times = trainDataView.GetColumn<float>(\"TripTime\").Take(numberOfRows).ToArray();\n",
    "\n",
    "var chartFareVsPassengers = Chart.Plot(\n",
    "    new Graph.Scatter()\n",
    "    {\n",
    "        x = passengerCounts,\n",
    "        y = fares,\n",
    "        mode = \"markers\",\n",
    "    }\n",
    ");\n",
    "\n",
    "var layout = new Layout.Layout(){title=\"Plot Fare depending on Passengers\"};\n",
    "chartFareVsPassengers.WithLayout(layout);\n",
    "chartFareVsPassengers.Width = 500;\n",
    "chartFareVsPassengers.Height = 500;\n",
    "chartFareVsPassengers.WithXTitle(\"Passengers\");\n",
    "chartFareVsPassengers.WithYTitle(\"Fares\");\n",
    "chartFareVsPassengers.WithLegend(false);\n",
    "\n",
    "display(chartFareVsPassengers);"
   ]
  },
  {
   "cell_type": "markdown",
   "metadata": {},
   "source": [
    "### Implementation of PeekTransformedData() function"
   ]
  },
  {
   "cell_type": "code",
   "execution_count": null,
   "metadata": {},
   "outputs": [],
   "source": [
    "// Util method to show transformed data in IDataView\n",
    "public static void PeekTransformedData(MLContext mlContext, IDataView dataView, IEstimator<ITransformer> pipeline, int numberOfRows = 4)\n",
    "{\n",
    "    string msg = string.Format(\"Peek data in DataView: Showing {0} rows with the columns\", numberOfRows.ToString());\n",
    "    display(msg);\n",
    "    \n",
    "    var transformer = pipeline.Fit(dataView);\n",
    "    var transformedData = transformer.Transform(dataView);\n",
    "    \n",
    "    // 'transformedData' is a 'promise' of data, lazy-loading. call Preview  \n",
    "    //and iterate through the returned collection from preview.\n",
    "    var preViewTransformedData = transformedData.Preview(maxRows: numberOfRows);\n",
    "    \n",
    "    //display(preViewTransformedData.RowView);\n",
    "                \n",
    "    foreach (var row in preViewTransformedData.RowView)\n",
    "    {\n",
    "        var ColumnCollection = row.Values;\n",
    "        string lineToPrint = \"Row--> \";\n",
    "        foreach (KeyValuePair<string, object> column in ColumnCollection)\n",
    "        {\n",
    "            lineToPrint += $\"| {column.Key}:{column.Value}\";\n",
    "        }\n",
    "        display(lineToPrint + \"\\n\");\n",
    "    }   \n",
    "}\n"
   ]
  },
  {
   "cell_type": "markdown",
   "metadata": {},
   "source": [
    "# Data transformations pipeline for ML.NET model"
   ]
  },
  {
   "cell_type": "code",
   "execution_count": null,
   "metadata": {},
   "outputs": [],
   "source": [
    "display(h1(\"Apply Data Transformations pipeline\"));\n",
    "\n",
    "// STEP 2: Common data process configuration with pipeline data transformations\n",
    "var dataProcessPipeline = mlContext.Transforms.Categorical.OneHotEncoding(outputColumnName: \"VendorIdEncoded\", inputColumnName: nameof(TaxiTrip.VendorId))\n",
    "                  .Append(mlContext.Transforms.Categorical.OneHotEncoding(outputColumnName: \"RateCodeEncoded\", inputColumnName: nameof(TaxiTrip.RateCode)))\n",
    "                  .Append(mlContext.Transforms.Categorical.OneHotEncoding(outputColumnName: \"PaymentTypeEncoded\",inputColumnName: nameof(TaxiTrip.PaymentType)))\n",
    "                  .Append(mlContext.Transforms.NormalizeMeanVariance(outputColumnName: nameof(TaxiTrip.PassengerCount)))\n",
    "                  .Append(mlContext.Transforms.NormalizeMeanVariance(outputColumnName: nameof(TaxiTrip.TripTime)))\n",
    "                  .Append(mlContext.Transforms.NormalizeMeanVariance(outputColumnName: nameof(TaxiTrip.TripDistance)))\n",
    "                  .Append(mlContext.Transforms.Concatenate(\"Features\", \"VendorIdEncoded\", \"RateCodeEncoded\", \"PaymentTypeEncoded\", \n",
    "                                                           nameof(TaxiTrip.PassengerCount), nameof(TaxiTrip.TripTime), nameof(TaxiTrip.TripDistance)));\n",
    "\n",
    "display(h3(\"Show transformed data...\"));\n",
    "\n",
    "PeekTransformedData(mlContext, trainDataView, dataProcessPipeline, 5);\n"
   ]
  },
  {
   "cell_type": "markdown",
   "metadata": {},
   "source": [
    "# Append the trainer/algorithm to pipeline and train the model"
   ]
  },
  {
   "cell_type": "code",
   "execution_count": null,
   "metadata": {},
   "outputs": [],
   "source": [
    "%%time\n",
    "display(h1(\"Build Training Pipeline and Train the model\"));\n",
    "display(h4(\"Creating the Training Pipeline with trainer/algorithm\"));\n",
    "\n",
    "// STEP 3: Set the training algorithm - Selected Trainer (SDCA Regression algorithm)                            \n",
    "var trainer = mlContext.Regression.Trainers.Sdca(labelColumnName: \"FareAmount\", featureColumnName: \"Features\");\n",
    "var trainingPipeline = dataProcessPipeline.Append(trainer);\n",
    "\n",
    "// STEP 4: Train the model fitting to the DataSet\n",
    "//The pipeline is trained on the dataset that has been loaded and transformed.\n",
    "display(\"=============== Training the model ===============\");\n",
    "var trainedModel = trainingPipeline.Fit(trainDataView);\n"
   ]
  },
  {
   "cell_type": "markdown",
   "metadata": {},
   "source": [
    "## Make predictions in bulk from the TestDataset to be used for the metrics"
   ]
  },
  {
   "cell_type": "code",
   "execution_count": null,
   "metadata": {},
   "outputs": [],
   "source": [
    "// Make predictions to plot agaist actual values\n",
    "display(h3(\"===== Making predictions in bulk for the whole Test Dataset =====\"));\n",
    "// Make predictions in bulk (Transformed IDataView will have the predictions plus the actual/true values)\n",
    "IDataView predictionsDataView = trainedModel.Transform(testDataView);\n"
   ]
  },
  {
   "cell_type": "markdown",
   "metadata": {},
   "source": [
    "## Display the metrics (Model quality evaluation)"
   ]
  },
  {
   "cell_type": "code",
   "execution_count": null,
   "metadata": {},
   "outputs": [],
   "source": [
    "display(h3(\"===== Evaluating Model's accuracy with Test dataset =====\"));\n",
    "\n",
    "var metrics = mlContext.Regression.Evaluate(predictionsDataView, labelColumnName: \"FareAmount\", scoreColumnName: \"Score\");\n",
    "display(metrics);"
   ]
  },
  {
   "cell_type": "markdown",
   "metadata": {},
   "source": [
    "## Bar chart showing 'Actual fares vs. Predicted fares Comparison' "
   ]
  },
  {
   "cell_type": "code",
   "execution_count": null,
   "metadata": {},
   "outputs": [],
   "source": [
    "// Number of rows to use for Bar chart\n",
    "int totalNumberForBarChart  = 20;\n",
    "\n",
    "float[] actualFares = predictionsDataView.GetColumn<float>(\"FareAmount\").Take(totalNumberForBarChart).ToArray();\n",
    "float[] predictionFares = predictionsDataView.GetColumn<float>(\"Score\").Take(totalNumberForBarChart).ToArray();\n",
    "int[] elements = Enumerable.Range(0, totalNumberForBarChart).ToArray();\n",
    "\n",
    "// Define group for Actual values \n",
    "var ActualValuesGroupBarGraph = new Graph.Bar()\n",
    "{\n",
    "    x = elements,\n",
    "    y = actualFares,\n",
    "    name = \"Actual\"\n",
    "};\n",
    "\n",
    "// Define group for Prediction values \n",
    "var PredictionValuesGroupBarGraph = new Graph.Bar()\n",
    "{\n",
    "    x = elements,\n",
    "    y = predictionFares,\n",
    "    name = \"Predicted\"\n",
    "};\n",
    "\n",
    "var chart = Chart.Plot(new[] {ActualValuesGroupBarGraph, PredictionValuesGroupBarGraph});\n",
    "\n",
    "var layout = new Layout.Layout(){barmode = \"group\", title=\"Actual fares vs. Predicted fares Comparison\"};\n",
    "chart.WithLayout(layout);\n",
    "chart.WithXTitle(\"Cases\");\n",
    "chart.WithYTitle(\"Fare\");\n",
    "chart.WithLegend(true);\n",
    "chart.Width = 700;\n",
    "chart.Height = 400;\n",
    "\n",
    "display(chart);"
   ]
  },
  {
   "cell_type": "markdown",
   "metadata": {},
   "source": [
    "### Implementation of CalculateRegressionLine() function"
   ]
  },
  {
   "cell_type": "code",
   "execution_count": null,
   "metadata": {},
   "outputs": [],
   "source": [
    "// Function to calculate the regression line \n",
    "// (This function could be substituted by a pre-built Math function from a NuGet such as Math.NET)\n",
    "\n",
    "public static (double[], double[]) CalculateRegressionLine(float[] actualFares, float[] predictionFares, int totalNumber)\n",
    "{   \n",
    "    // Regression Line calculation explanation:\n",
    "    // https://www.khanacademy.org/math/statistics-probability/describing-relationships-quantitative-data/more-on-regression/v/regression-line-example\n",
    "    // Generic function for Y for the regression line\n",
    "    // y = (m * x) + b;\n",
    "    // Similar code: https://gist.github.com/tansey/1375526 \n",
    "\n",
    "    double yTotal = 0;\n",
    "    double xTotal = 0;\n",
    "    double xyMultiTotal = 0;\n",
    "    double xSquareTotal = 0;\n",
    "\n",
    "    for (int i = 0; i < (actualFares.Length); i++)\n",
    "    {\n",
    "        var x = actualFares[i];\n",
    "        var y = predictionFares[i];\n",
    "\n",
    "        xTotal += x;\n",
    "        yTotal += y;\n",
    "\n",
    "        double multi = x * y;\n",
    "        xyMultiTotal += multi;\n",
    "\n",
    "        double xSquare = x * x;\n",
    "        xSquareTotal += xSquare;\n",
    "\n",
    "        double ySquare = y * y;\n",
    "\n",
    "        //display($\"-------------------------------------------------\");\n",
    "        //display($\"Predicted : {y}\");\n",
    "        //display($\"Actual:    {x}\");\n",
    "        //display($\"-------------------------------------------------\");\n",
    "    }\n",
    "\n",
    "    double minY = yTotal / totalNumber;\n",
    "    double minX = xTotal / totalNumber;\n",
    "    double minXY = xyMultiTotal / totalNumber;\n",
    "    double minXsquare = xSquareTotal / totalNumber;\n",
    "\n",
    "    double m = ((minX * minY) - minXY) / ((minX * minX) - minXsquare);\n",
    "\n",
    "    double b = minY - (m * minX);\n",
    "\n",
    "    //Generic function for Y for the regression line\n",
    "    // y = (m * x) + b;\n",
    "\n",
    "    // Start x on 0\n",
    "    double x1 = 0;\n",
    "    //Function for Y1 in the line\n",
    "    double y1 = (m * x1) + b;\n",
    "\n",
    "    // Get the max val of X or Y for our X in the line so the line is long enough for outliers\n",
    "    var maxValueForX = Math.Max(actualFares.Max(), predictionFares.Max());\n",
    "\n",
    "    double x2 = maxValueForX;\n",
    "    //Function for Y2 in the line\n",
    "    double y2 = (m * x2) + b;\n",
    "\n",
    "    // Extract/create two simple arrays for the line coordinates\n",
    "    var xArray = new double[2];\n",
    "    var yArray = new double[2];\n",
    "    xArray[0] = x1;\n",
    "    yArray[0] = y1;\n",
    "    xArray[1] = x2;\n",
    "    yArray[1] = y2;\n",
    "            \n",
    "    return(xArray, yArray);\n",
    "}"
   ]
  },
  {
   "cell_type": "markdown",
   "metadata": {},
   "source": [
    "# Plotting Regression line and Predictions vs. Actual values"
   ]
  },
  {
   "cell_type": "code",
   "execution_count": null,
   "metadata": {},
   "outputs": [],
   "source": [
    "using XPlot.Plotly;\n",
    "\n",
    "// Number of rows to use for Plotting the Regression chart\n",
    "int totalNumber  = 500;\n",
    "\n",
    "float[] actualFares = predictionsDataView.GetColumn<float>(\"FareAmount\").Take(totalNumber).ToArray();\n",
    "float[] predictionFares = predictionsDataView.GetColumn<float>(\"Score\").Take(totalNumber).ToArray();\n",
    "\n",
    "// Display the Best Bit Regression Line \n",
    "\n",
    "// Define scatter plot grapgh (dots) \n",
    "var ActualVsPredictedGraph = new Graph.Scatter()\n",
    "{\n",
    "    x = actualFares,\n",
    "    y = predictionFares,\n",
    "    mode = \"markers\",\n",
    "    marker = new Graph.Marker() { color = \"purple\"} //\"rgb(142, 124, 195)\"             \n",
    "};\n",
    "\n",
    "// Calculate Regression line\n",
    "// Get a touple with the two X and two Y values determining the regression line\n",
    "(double[] xArray, double[] yArray) = CalculateRegressionLine(actualFares, predictionFares, totalNumber);\n",
    "\n",
    "//display(\"Display values defining the regression line\");\n",
    "//display(xArray);\n",
    "//display(yArray);\n",
    "\n",
    "// Define grapgh for the line \n",
    "var regressionLine = new Graph.Scatter()\n",
    "{\n",
    "    x = xArray,\n",
    "    y = yArray,\n",
    "    mode = \"lines\"\n",
    "};\n",
    "\n",
    "\n",
    "// 'Perfect' line, 45 degrees (Predicted values equal to actual values)\n",
    "var maximumValue = Math.Max(actualFares.Max(), predictionFares.Max());\n",
    "\n",
    "var perfectLine = new Graph.Scatter()\n",
    "{\n",
    "    x = new[] {0, maximumValue},\n",
    "    y = new[] {0, maximumValue},\n",
    "    mode = \"lines\",\n",
    "    line = new Graph.Line(){color = \"grey\"}\n",
    "};\n",
    "//////\n",
    "\n",
    "// XPlot Charp samples: https://fslab.org/XPlot/chart/plotly-line-scatter-plots.html \n",
    "//Display the chart's figures\n",
    "var chart = Chart.Plot(new[] {ActualVsPredictedGraph, regressionLine, perfectLine });\n",
    "chart.WithXTitle(\"Actual Values\");\n",
    "chart.WithYTitle(\"Predicted Values\");\n",
    "chart.WithLegend(true);\n",
    "chart.WithLabels(new[]{\"Prediction vs. Actual\", \"Regression Line\", \"Perfect Regression Line\"});\n",
    "chart.Width = 700;\n",
    "chart.Height = 600;\n",
    "\n",
    "display(chart);"
   ]
  },
  {
   "cell_type": "markdown",
   "metadata": {},
   "source": [
    "# Save the ML model as a file"
   ]
  },
  {
   "cell_type": "code",
   "execution_count": null,
   "metadata": {},
   "outputs": [],
   "source": [
    "display(h1(\"Saving the ML.NET Model as a file...\"));\n",
    "\n",
    "string modelFilePath = \"./MLRegressionModel.zip\";\n",
    "\n",
    "// GetAbsolutePath(modelRelativePath)\n",
    "mlContext.Model.Save(trainedModel, trainDataView.Schema, modelFilePath);\n",
    "\n",
    "display(h3($\"The model was saved to: {modelFilePath}\"));\n"
   ]
  },
  {
   "cell_type": "code",
   "execution_count": null,
   "metadata": {},
   "outputs": [],
   "source": [
    "\n"
   ]
  }
 ],
 "metadata": {
  "kernelspec": {
   "display_name": ".NET (C#)",
   "language": "C#",
   "name": ".net-csharp"
  },
  "language_info": {
   "file_extension": ".cs",
   "mimetype": "text/x-csharp",
   "name": "C#",
   "pygments_lexer": "csharp",
   "version": "8.0"
  }
 },
 "nbformat": 4,
 "nbformat_minor": 2
}
