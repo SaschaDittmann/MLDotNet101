{
 "cells": [
  {
   "cell_type": "markdown",
   "metadata": {},
   "source": [
    "# Using ML.NET and XPlot in Jupyter notebooks\n",
    "## Scenario: Regression model for Taxi fares\n",
    "\n",
    "Regression is a ML task type of supervised machine learning algorithms. \n",
    "A regression ML model predicts continuous value outputs (such as numbers). \n",
    "For instance, predicting the fare of a Taxi trip or predicting the price of a car is a regression problem."
   ]
  },
  {
   "cell_type": "markdown",
   "metadata": {},
   "source": [
    "# Install the NuGet packages you use in the notebook"
   ]
  },
  {
   "cell_type": "code",
   "execution_count": null,
   "metadata": {},
   "outputs": [],
   "source": [
    "// ML.NET Nuget packages installation\n",
    "#r \"nuget:Microsoft.ML,1.4.0\"\n",
    "#r \"nuget:Microsoft.ML.AutoML,0.16.0\"\n",
    "    \n",
    "//Install XPlot package\n",
    "#r \"nuget:XPlot.Plotly,3.0.1\"\n",
    "\n",
    "using Microsoft.ML;\n",
    "using Microsoft.ML.AutoML;\n",
    "using Microsoft.ML.Data;\n",
    "using XPlot.Plotly;"
   ]
  },
  {
   "cell_type": "markdown",
   "metadata": {},
   "source": [
    "# Declare data-classes for input data and predictions"
   ]
  },
  {
   "cell_type": "code",
   "execution_count": null,
   "metadata": {},
   "outputs": [],
   "source": [
    "public class TaxiTrip\n",
    "{\n",
    "    [LoadColumn(0)]\n",
    "    public string VendorId;\n",
    "\n",
    "    [LoadColumn(1)]\n",
    "    public string RateCode;\n",
    "\n",
    "    [LoadColumn(2)]\n",
    "    public float PassengerCount;\n",
    "\n",
    "    [LoadColumn(3)]\n",
    "    public float TripTime;\n",
    "\n",
    "    [LoadColumn(4)]\n",
    "    public float TripDistance;\n",
    "\n",
    "    [LoadColumn(5)]\n",
    "    public string PaymentType;\n",
    "\n",
    "    [LoadColumn(6)]\n",
    "    public float FareAmount;\n",
    "}\n",
    "\n",
    "public class TaxiTripFarePrediction\n",
    "{\n",
    "    [ColumnName(\"Score\")]\n",
    "    public float FareAmount;\n",
    "}"
   ]
  },
  {
   "cell_type": "markdown",
   "metadata": {},
   "source": [
    "# Load datasets into IDataView and display the schema "
   ]
  },
  {
   "cell_type": "code",
   "execution_count": null,
   "metadata": {},
   "outputs": [],
   "source": [
    "MLContext mlContext = new MLContext(seed: 0);\n",
    "\n",
    "string TrainDataPath = \"./data/taxifare/taxi-fare-train.csv\";\n",
    "string TestDataPath = \"./data/taxifare/taxi-fare-test.csv\";\n",
    "\n",
    "IDataView trainDataView = mlContext.Data.LoadFromTextFile<TaxiTrip>(TrainDataPath, hasHeader: true, separatorChar: ',');\n",
    "IDataView testDataView = mlContext.Data.LoadFromTextFile<TaxiTrip>(TestDataPath, hasHeader: true, separatorChar: ',');\n",
    "\n",
    "display(h2(\"Schema of training DataView:\"));\n",
    "display(trainDataView.Schema);\n"
   ]
  },
  {
   "cell_type": "markdown",
   "metadata": {},
   "source": [
    "## Show a few rows of loaded data "
   ]
  },
  {
   "cell_type": "code",
   "execution_count": null,
   "metadata": {},
   "outputs": [],
   "source": [
    "public static List<TaxiTrip> Head(MLContext mlContext, IDataView dataView, int numberOfRows = 4)\n",
    "{\n",
    "    string msg = string.Format(\"DataView: Showing {0} rows with the columns\", numberOfRows.ToString());\n",
    "    display(msg);\n",
    "          \n",
    "    var rows = mlContext.Data.CreateEnumerable<TaxiTrip>(dataView, reuseRowObject: false)\n",
    "                    .Take(numberOfRows)\n",
    "                    .ToList();\n",
    "    \n",
    "    return rows;\n",
    "}\n",
    "\n",
    "display(h3(\"Showing a few rows from training DataView\"));\n",
    "\n",
    "var fewRows = Head(mlContext, trainDataView, 5);\n",
    "display(fewRows);"
   ]
  },
  {
   "cell_type": "code",
   "execution_count": null,
   "metadata": {},
   "outputs": [],
   "source": [
    "private const int Width = 114;\n",
    "\n",
    "private static void CreateRow(string message, int width)\n",
    "{\n",
    "    Console.WriteLine(\"|\" + message.PadRight(width - 2) + \"|\");\n",
    "}\n",
    "\n",
    "public static void PrintRegressionMetricsHeader()\n",
    "{\n",
    "    CreateRow($\"{\"\",-4} {\"Trainer\",-35} {\"RSquared\",8} {\"Absolute-loss\",13} {\"Squared-loss\",12} {\"RMS-loss\",8} {\"Duration\",9}\", Width);\n",
    "}\n",
    "        \n",
    "public static void PrintIterationMetrics(int iteration, string trainerName, RegressionMetrics metrics, double? runtimeInSeconds)\n",
    "{\n",
    "    CreateRow($\"{iteration,-4} {trainerName,-35} {metrics?.RSquared ?? double.NaN,8:F4} {metrics?.MeanAbsoluteError ?? double.NaN,13:F2} {metrics?.MeanSquaredError ?? double.NaN,12:F2} {metrics?.RootMeanSquaredError ?? double.NaN,8:F2} {runtimeInSeconds.Value,9:F1}\", Width);\n",
    "}\n",
    "\n",
    "public static void PrintTopModels(ExperimentResult<RegressionMetrics> experimentResult)\n",
    "{\n",
    "    // Get top few runs ranked by R-Squared.\n",
    "    // R-Squared is a metric to maximize, so OrderByDescending() is correct.\n",
    "    // For RMSE and other regression metrics, OrderByAscending() is correct.\n",
    "    var topRuns = experimentResult.RunDetails\n",
    "        .Where(r => r.ValidationMetrics != null && !double.IsNaN(r.ValidationMetrics.RSquared))\n",
    "        .OrderByDescending(r => r.ValidationMetrics.RSquared).Take(3);\n",
    "\n",
    "    Console.WriteLine(\"Top models ranked by R-Squared --\");\n",
    "    PrintRegressionMetricsHeader();\n",
    "    for (var i = 0; i < topRuns.Count(); i++)\n",
    "    {\n",
    "        var run = topRuns.ElementAt(i);\n",
    "        PrintIterationMetrics(i + 1, run.TrainerName, run.ValidationMetrics, run.RuntimeInSeconds);\n",
    "    }\n",
    "}\n",
    "\n",
    "public static void PrintRegressionMetrics(string name, RegressionMetrics metrics)\n",
    "{\n",
    "    Console.WriteLine($\"*************************************************\");\n",
    "    Console.WriteLine($\"*       Metrics for {name} regression model      \");\n",
    "    Console.WriteLine($\"*------------------------------------------------\");\n",
    "    Console.WriteLine($\"*       LossFn:        {metrics.LossFunction:0.##}\");\n",
    "    Console.WriteLine($\"*       R2 Score:      {metrics.RSquared:0.##}\");\n",
    "    Console.WriteLine($\"*       Absolute loss: {metrics.MeanAbsoluteError:#.##}\");\n",
    "    Console.WriteLine($\"*       Squared loss:  {metrics.MeanSquaredError:#.##}\");\n",
    "    Console.WriteLine($\"*       RMS loss:      {metrics.RootMeanSquaredError:#.##}\");\n",
    "    Console.WriteLine($\"*************************************************\");\n",
    "}"
   ]
  },
  {
   "cell_type": "code",
   "execution_count": null,
   "metadata": {},
   "outputs": [],
   "source": [
    "private const int ExperimentTime = 60;\n",
    "private const string LabelColumnName = \"FareAmount\";\n",
    "\n",
    "Console.WriteLine(\"=============== Training the model ===============\");\n",
    "Console.WriteLine($\"Running AutoML regression experiment for {ExperimentTime} seconds...\");\n",
    "ExperimentResult<RegressionMetrics> experimentResult = mlContext.Auto()\n",
    "                .CreateRegressionExperiment(ExperimentTime)\n",
    "                .Execute(trainDataView, LabelColumnName);\n",
    "                \n",
    "Console.WriteLine();\n",
    "PrintTopModels(experimentResult);"
   ]
  },
  {
   "cell_type": "code",
   "execution_count": null,
   "metadata": {},
   "outputs": [],
   "source": [
    "Console.WriteLine(\"===== Evaluating model's accuracy with test data =====\");\n",
    "RunDetail<RegressionMetrics> best = experimentResult.BestRun;\n",
    "ITransformer trainedModel = best.Model;\n",
    "IDataView predictions = trainedModel.Transform(testDataView);\n",
    "var metrics = mlContext.Regression.Evaluate(predictions, labelColumnName: LabelColumnName, scoreColumnName: \"Score\");\n",
    "\n",
    "// Print metrics from top model\n",
    "Console.WriteLine();\n",
    "PrintRegressionMetrics(best.TrainerName, metrics);"
   ]
  },
  {
   "cell_type": "code",
   "execution_count": null,
   "metadata": {},
   "outputs": [],
   "source": [
    "private const string ModelFilePath = \"./AutoMLRegressionModel.zip\";\n",
    "\n",
    "mlContext.Model.Save(trainedModel, trainDataView.Schema, ModelFilePath);\n",
    "Console.WriteLine($\"The model is saved to {ModelFilePath}\");"
   ]
  },
  {
   "cell_type": "code",
   "execution_count": null,
   "metadata": {},
   "outputs": [],
   "source": [
    "Console.WriteLine(\"=============== Testing prediction engine ===============\");\n",
    "\n",
    "// Sample: \n",
    "// vendor_id,rate_code,passenger_count,trip_time_in_secs,trip_distance,payment_type,fare_amount\n",
    "// VTS,1,1,1140,3.75,CRD,15.5\n",
    "\n",
    "var taxiTripSample = new TaxiTrip()\n",
    "{\n",
    "    VendorId = \"VTS\",\n",
    "    RateCode = \"1\",\n",
    "    PassengerCount = 1,\n",
    "    TripTime = 1140,\n",
    "    TripDistance = 3.75f,\n",
    "    PaymentType = \"CRD\",\n",
    "    FareAmount = 0 // To predict. Actual/Observed = 15.5\n",
    "};\n",
    "\n",
    "ITransformer trainedModel = mlContext.Model.Load(ModelFilePath, out var modelInputSchema);\n",
    "\n",
    "// Create prediction engine related to the loaded trained model\n",
    "var predEngine = mlContext.Model.CreatePredictionEngine<TaxiTrip, TaxiTripFarePrediction>(trainedModel);\n",
    "\n",
    "// Score\n",
    "var predictedResult = predEngine.Predict(taxiTripSample);\n",
    "\n",
    "Console.WriteLine($\"**********************************************************************\");\n",
    "Console.WriteLine($\"Predicted fare: {predictedResult.FareAmount:0.####}, actual fare: 15.5\");\n",
    "Console.WriteLine($\"**********************************************************************\");"
   ]
  }
 ],
 "metadata": {
  "kernelspec": {
   "display_name": ".NET (C#)",
   "language": "C#",
   "name": ".net-csharp"
  },
  "language_info": {
   "file_extension": ".cs",
   "mimetype": "text/x-csharp",
   "name": "C#",
   "pygments_lexer": "csharp",
   "version": "8.0"
  }
 },
 "nbformat": 4,
 "nbformat_minor": 2
}
